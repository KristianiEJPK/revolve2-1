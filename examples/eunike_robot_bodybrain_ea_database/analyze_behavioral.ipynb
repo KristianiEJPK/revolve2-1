{
 "cells": [
  {
   "cell_type": "markdown",
   "metadata": {},
   "source": [
    "# Import"
   ]
  },
  {
   "cell_type": "code",
   "execution_count": 6,
   "metadata": {},
   "outputs": [],
   "source": [
    "import os\n",
    "import matplotlib.pyplot as plt\n",
    "import numpy as np\n",
    "import pandas as pd\n",
    "from sqlalchemy import select\n",
    "from revolve2.experimentation.database import OpenMethod, open_database_sqlite"
   ]
  },
  {
   "cell_type": "markdown",
   "metadata": {},
   "source": [
    "# Set Paths and Column"
   ]
  },
  {
   "cell_type": "code",
   "execution_count": 7,
   "metadata": {},
   "outputs": [],
   "source": [
    "# Settings\n",
    "paths = {\"CPPN\": \"C:\\\\Users\\\\niels\\\\Downloads\\\\CPPN\\\\Evolution\",\n",
    "         \"GRN\": \"C:\\\\Users\\\\niels\\\\Downloads\\\\GRN_runs\",\n",
    "         \"GRN_system\": \"C:\\\\Users\\\\niels\\\\Downloads\\\\GRN_system_runs\\\\Evolution\",}\n",
    "column = \"std_dx\""
   ]
  },
  {
   "cell_type": "markdown",
   "metadata": {},
   "source": [
    "# Function to set environmental variables"
   ]
  },
  {
   "cell_type": "code",
   "execution_count": 8,
   "metadata": {},
   "outputs": [],
   "source": [
    "def set_environments(algo, mode):\n",
    "    # Set environment variables\n",
    "    file_name = \"nan.sqlite\"\n",
    "    assert algo in [\"GRN\", \"GRN_system\", \"GRN_system_adv\", \"CPPN\"], \"ALGORITHM must be either GRN, GRN_system or CPPN\"\n",
    "    assert mode in [\"random search\", \"evolution\"], \"MODE must be either random search or evolution\"\n",
    "    assert type(file_name) == str, \"FILE_NAME must be a string\"\n",
    "    assert file_name.endswith(\".sqlite\"), \"FILE_NAME must end with sqlite\"\n",
    "    os.environ[\"ALGORITHM\"] = algo\n",
    "    os.environ[\"MODE\"] = mode\n",
    "    os.environ[\"DATABASE_FILE\"] = file_name"
   ]
  },
  {
   "cell_type": "markdown",
   "metadata": {},
   "source": [
    "# Columns in Data"
   ]
  },
  {
   "cell_type": "code",
   "execution_count": 9,
   "metadata": {},
   "outputs": [],
   "source": [
    "# Columns\n",
    "columns = [\"fitness\", \"energy_used\", \n",
    "               \n",
    "               \"x_distance\", \"tot_xdistance\", \"xmax\", \"y_distance\", \"tot_ydistance\",\n",
    "               \n",
    "               \"min_dx\", \"dx25\", \"mean_dx\", \"median_dx\", \"dx75\", \"max_dx\", \"std_dx\",\n",
    "               \n",
    "               \"min_dy\", \"dy25\", \"mean_dy\", \"median_dy\", \"dy75\", \"max_dy\", \"std_dy\",\n",
    "                \n",
    "                \"energy_used_min\", \"energy_used_25\", \"energy_used_mean\", \"energy_used_median\",\n",
    "                \"energy_used_75\", \"energy_used_max\", \"energy_used_std\",\n",
    "\n",
    "                \"force_std_motor_min\", \"force_std_motor_25\", \"force_std_motor_mean\", \"force_std_motor_median\",\n",
    "                \"force_std_motor_75\", \"force_std_motor_max\", \"force_std_motor_std\",\n",
    "\n",
    "                \"force_std_all_min\", \"force_std_all_25\", \"force_std_all_mean\", \"force_std_all_median\",\n",
    "                \"force_std_all_75\", \"force_std_all_max\", \"force_std_all_std\",\n",
    "\n",
    "                \"efficiency\", \"efficiency_min\", \"efficiency_25\", \"efficiency_mean\", \"efficiency_median\",\n",
    "                \"efficiency_75\", \"efficiency_max\", \"efficiency_std\",\n",
    "\n",
    "                \"balance\"]"
   ]
  },
  {
   "cell_type": "markdown",
   "metadata": {},
   "source": [
    "# Function to select data"
   ]
  },
  {
   "cell_type": "code",
   "execution_count": 10,
   "metadata": {},
   "outputs": [],
   "source": [
    "def select_data(dbengine, column: str) -> pd.DataFrame:\n",
    "    \"\"\"Goal:\n",
    "        Select the data of the column\n",
    "    -------------------------------------------------------------\n",
    "    Input:\n",
    "        dbengine: ?\n",
    "        column: The column that needs to be selected\n",
    "    --------------------------------------------------------------\n",
    "    Output:\n",
    "        df: pd.Dataframe\"\"\"\n",
    "    # Load packages\n",
    "    from experiment import Experiment\n",
    "    from generation import Generation\n",
    "    from individual import Individual\n",
    "    from population import Population\n",
    "    # Select the data of the column\n",
    "    df = pd.read_sql(\n",
    "        select(Experiment.id.label(\"experiment_id\"), Generation.generation_index, getattr(Individual, column),)\n",
    "        .join_from(Experiment, Generation, Experiment.id == Generation.experiment_id)\n",
    "        .join_from(Generation, Population, Generation.population_id == Population.id)\n",
    "        .join_from(Population, Individual, Population.id == Individual.population_id),\n",
    "        dbengine,\n",
    "    )\n",
    "\n",
    "    return df"
   ]
  },
  {
   "cell_type": "markdown",
   "metadata": {},
   "source": [
    "# Code to Load data"
   ]
  },
  {
   "cell_type": "code",
   "execution_count": 11,
   "metadata": {},
   "outputs": [
    {
     "name": "stdout",
     "output_type": "stream",
     "text": [
      "database_CPPN_evo1.sqlite\n",
      "[0 1]\n",
      "(180200,)\n",
      "database_CPPN_evo10.sqlite\n",
      "[2 3]\n",
      "(180200,)\n",
      "database_CPPN_evo2.sqlite\n",
      "[4 5]\n",
      "(180200,)\n",
      "database_CPPN_evo3.sqlite\n",
      "[6 7]\n",
      "(180200,)\n",
      "database_CPPN_evo4.sqlite\n",
      "[8 9]\n",
      "(180200,)\n",
      "database_CPPN_evo5.sqlite\n",
      "[10 11]\n",
      "(180200,)\n",
      "database_CPPN_evo6.sqlite\n",
      "[12 13]\n",
      "(180200,)\n",
      "database_CPPN_evo7.sqlite\n",
      "[14 15]\n",
      "(180200,)\n",
      "database_CPPN_evo8.sqlite\n",
      "[16 17]\n",
      "(180200,)\n",
      "database_CPPN_evo9.sqlite\n",
      "[18 19]\n",
      "(180200,)\n",
      "database_GRN_300_1.sqlite\n",
      "[20 21]\n",
      "(180200,)\n",
      "database_GRN_300_10.sqlite\n",
      "[22 23]\n",
      "(180200,)\n",
      "database_GRN_300_2.sqlite\n",
      "[24 25]\n",
      "(180200,)\n",
      "database_GRN_300_3.sqlite\n",
      "[26 27]\n",
      "(180200,)\n",
      "database_GRN_300_4.sqlite\n",
      "[28 29]\n",
      "(180200,)\n",
      "database_GRN_300_5.sqlite\n",
      "[30 31]\n",
      "(180200,)\n",
      "database_GRN_300_6.sqlite\n",
      "[32 33]\n",
      "(180200,)\n",
      "database_GRN_300_7.sqlite\n",
      "[34 35]\n",
      "(180200,)\n",
      "database_GRN_300_8.sqlite\n",
      "[36 37]\n",
      "(180200,)\n",
      "database_GRN_300_9.sqlite\n",
      "[38 39]\n",
      "(180200,)\n",
      "database_GRN_300_1.sqlite\n",
      "[40]\n",
      "(90100,)\n",
      "database_GRN_300_10.sqlite\n",
      "[41 42]\n",
      "(180200,)\n",
      "database_GRN_300_11.sqlite\n",
      "[43]\n",
      "(90100,)\n",
      "database_GRN_300_12.sqlite\n",
      "[44]\n",
      "(90100,)\n",
      "database_GRN_300_13.sqlite\n",
      "[45]\n",
      "(90100,)\n",
      "database_GRN_300_2.sqlite\n",
      "[46 47]\n",
      "(180200,)\n",
      "database_GRN_300_3.sqlite\n",
      "[48 49]\n",
      "(180200,)\n",
      "database_GRN_300_4.sqlite\n",
      "[50]\n",
      "(90100,)\n",
      "database_GRN_300_5.sqlite\n",
      "[51 52]\n",
      "(180200,)\n",
      "database_GRN_300_6.sqlite\n",
      "[53]\n",
      "(90100,)\n",
      "database_GRN_300_7.sqlite\n",
      "[54 55]\n",
      "(180200,)\n",
      "database_GRN_300_8.sqlite\n",
      "[56 57]\n",
      "(180200,)\n",
      "database_GRN_300_9.sqlite\n",
      "[58 59]\n",
      "(180200,)\n"
     ]
    }
   ],
   "source": [
    "# Initialize dataframe\n",
    "df = pd.DataFrame([])\n",
    "# Experiment id\n",
    "n_exp = 0\n",
    "\n",
    "# Loop through files\n",
    "for algo, folder_path in paths.items():\n",
    "    set_environments(algo, \"evolution\")\n",
    "    for file in os.listdir(folder_path):\n",
    "        if file.endswith(\".sqlite\"):\n",
    "            print(file)\n",
    "            # Open database\n",
    "            dbengine = open_database_sqlite(folder_path + \"\\\\\" + file, open_method=OpenMethod.OPEN_IF_EXISTS)\n",
    "\n",
    "            # Get pandas data\n",
    "            if type(column) == list:\n",
    "                assert column[0] == \"x_distance\" and column[1] == \"tot_xdistance\", \"Columns must be x_distance ans y_distance\"\n",
    "                df_sub = select_data(dbengine, column[0])\n",
    "                df_sub.loc[:, \"x_ratio\"] = select_data(dbengine, column[1])[\"tot_xdistance\"] - df_sub.loc[:, \"x_distance\"]\n",
    "                # Fill inf with 0\n",
    "                df_sub.replace([np.inf, -np.inf], np.nan, inplace = True)\n",
    "                df_sub.fillna(0, inplace = True)\n",
    "                df_sub.drop(columns = [\"x_distance\"], inplace = True)\n",
    "            else:\n",
    "                df_sub = select_data(dbengine, column)\n",
    "\n",
    "            df_sub[\"experiment_id\"] = ((df_sub[\"experiment_id\"] - df_sub[\"experiment_id\"].min()) + n_exp).astype(int).values\n",
    "            df_sub[\"Algorithm\"] = algo\n",
    "            print(df_sub[\"experiment_id\"].unique())\n",
    "            print(df_sub[\"experiment_id\"].shape)\n",
    "            n_exp = df_sub[\"experiment_id\"].max() + 1\n",
    "\n",
    "            # Concat data\n",
    "            df = pd.concat([df, df_sub], axis = 0)\n",
    "\n",
    "if type(column) == list:\n",
    "    column = \"x_ratio\"\n"
   ]
  },
  {
   "cell_type": "markdown",
   "metadata": {},
   "source": [
    "# Boxplot"
   ]
  },
  {
   "cell_type": "code",
   "execution_count": 12,
   "metadata": {},
   "outputs": [
    {
     "data": {
      "image/png": "[encoded data removed]",
      "text/plain": [
       "<Figure size 640x480 with 1 Axes>"
      ]
     },
     "metadata": {},
     "output_type": "display_data"
    }
   ],
   "source": [
    "import seaborn as sns\n",
    "# Select data\n",
    "df_sub = df[df[\"Algorithm\"].isin([\"CPPN\", \"GRN\", \"GRN_system\"])]\n",
    "df_sub = df_sub.loc[df_sub[\"generation_index\"] == 1200, :]\n",
    "# Aggregate over experiments per algorithm to median\n",
    "df_sub[column] = abs(df_sub[column])\n",
    "df_sub = df_sub.groupby([\"Algorithm\", \"experiment_id\"]).agg({column: \"median\"}).reset_index()\n",
    "# Plot\n",
    "sns.boxplot(x = \"Algorithm\", y = column, data = df_sub)\n",
    "# Set labels\n",
    "plt.xlabel(\"\", fontweight = \"bold\", size = 20)\n",
    "#plt.ylabel(column.title(), fontweight = \"bold\", size = 15)\n",
    "plt.ylabel(\"Std. of dx\", fontweight = \"bold\", size = 20)\n",
    "# Increase spine thickness\n",
    "plt.gca().spines[\"left\"].set_linewidth(2)\n",
    "plt.gca().spines[\"bottom\"].set_linewidth(2)\n",
    "\n",
    "# Set xtick labels\n",
    "plt.xticks([0, 1, 2], [\"CPPN\", \"GRN\", \"mrGRN\"], fontweight = \"bold\")\n",
    "# Remove ticks\n",
    "plt.tick_params(axis = \"both\", which = \"both\", length = 0)\n",
    "# Remove top and right spine\n",
    "sns.despine()\n",
    "# Increase padding of tick labels\n",
    "plt.tick_params(axis = \"both\", which = \"both\", pad = 10,\n",
    "                labelsize = 15)\n",
    "# Set ylim\n",
    "#plt.ylim(2, 14)\n",
    "#plt.ylim(0.01, 0.06)\n",
    "#plt.ylim(-0.1, 2)\n",
    "\n",
    "plt.show()\n"
   ]
  }
 ],
 "metadata": {
  "kernelspec": {
   "display_name": ".venv",
   "language": "python",
   "name": "python3"
  },
  "language_info": {
   "codemirror_mode": {
    "name": "ipython",
    "version": 3
   },
   "file_extension": ".py",
   "mimetype": "text/x-python",
   "name": "python",
   "nbconvert_exporter": "python",
   "pygments_lexer": "ipython3",
   "version": "3.10.11"
  }
 },
 "nbformat": 4,
 "nbformat_minor": 2
}
